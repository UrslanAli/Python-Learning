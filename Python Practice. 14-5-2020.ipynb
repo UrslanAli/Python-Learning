{
 "cells": [
  {
   "cell_type": "code",
   "execution_count": 2,
   "metadata": {},
   "outputs": [],
   "source": [
    "cleanest_cities = [\"Cheyenne\", \"Santa Fe\", \"Tucson\",\n",
    "\"Great Falls\", \"Honolulu\"]\n"
   ]
  },
  {
   "cell_type": "code",
   "execution_count": 3,
   "metadata": {},
   "outputs": [
    {
     "name": "stdout",
     "output_type": "stream",
     "text": [
      "q\n"
     ]
    }
   ],
   "source": [
    "user = \"\"\n",
    "while user != \"q\":\n",
    "    user = input(\"\")\n",
    "    if user != \"q\":\n",
    "        for city in cleanest_cities:\n",
    "            if city == user:\n",
    "                print(\"Your city is one of the cleanest cities\")\n",
    "                "
   ]
  },
  {
   "cell_type": "code",
   "execution_count": 10,
   "metadata": {},
   "outputs": [],
   "source": [
    "# Code a function that has two parameters that are lists. As long as the first list is shorter than the second list, append an element, \"empty\", to the first list. Make up the names of the function and variables.\n",
    "list_1 = []\n",
    "list_2 =[\"a\", \"b\", \"c\"]\n",
    "\n",
    "def even_out(list_1, list_2):\n",
    "    while len(list_1) < len(list_2):\n",
    "        list_1.append(\"empty\")"
   ]
  },
  {
   "cell_type": "code",
   "execution_count": 13,
   "metadata": {},
   "outputs": [
    {
     "name": "stdout",
     "output_type": "stream",
     "text": [
      "['empty', 'empty', 'empty']\n"
     ]
    }
   ],
   "source": [
    "even_out(list_1, list_2)\n",
    "print(list_1)"
   ]
  },
  {
   "cell_type": "code",
   "execution_count": 28,
   "metadata": {},
   "outputs": [],
   "source": [
    "def get_validation():\n",
    "    response = \"\"\n",
    "    while response != \"You're right\":\n",
    "        response = input(\"Tell me I'm right? \")\n",
    "\n",
    "\n",
    "\n",
    "  \n",
    "          "
   ]
  },
  {
   "cell_type": "code",
   "execution_count": 29,
   "metadata": {},
   "outputs": [
    {
     "name": "stdout",
     "output_type": "stream",
     "text": [
      "Tell me I'm right? no\n",
      "Tell me I'm right? ni\n",
      "Tell me I'm right? You're right\n"
     ]
    }
   ],
   "source": [
    "get_validation()"
   ]
  },
  {
   "cell_type": "code",
   "execution_count": null,
   "metadata": {},
   "outputs": [],
   "source": [
    "second_list_of_names = []\n",
    "counter = 0\n",
    "while counter < len(list_of_names):\n",
    "  second_list_of_names.append(list_of_names[counter])\n",
    "  counter += 1\n",
    "print (second_list_of_names)"
   ]
  },
  {
   "cell_type": "code",
   "execution_count": 30,
   "metadata": {},
   "outputs": [
    {
     "name": "stdout",
     "output_type": "stream",
     "text": [
      "1\n",
      "4\n",
      "10\n",
      "200\n"
     ]
    }
   ],
   "source": [
    "dict = {1: True, 4: True, 10: True, 100: False, 200: True}\n",
    "for key, value in dict.items():\n",
    "  if value == True:\n",
    "    print(key)"
   ]
  },
  {
   "cell_type": "code",
   "execution_count": null,
   "metadata": {},
   "outputs": [],
   "source": []
  }
 ],
 "metadata": {
  "kernelspec": {
   "display_name": "Python 3",
   "language": "python",
   "name": "python3"
  },
  "language_info": {
   "codemirror_mode": {
    "name": "ipython",
    "version": 3
   },
   "file_extension": ".py",
   "mimetype": "text/x-python",
   "name": "python",
   "nbconvert_exporter": "python",
   "pygments_lexer": "ipython3",
   "version": "3.7.6"
  }
 },
 "nbformat": 4,
 "nbformat_minor": 4
}
